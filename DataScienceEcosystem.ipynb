{
 "cells": [
  {
   "cell_type": "markdown",
   "id": "1104ea92-c04b-4a33-bad7-0ffdf4e02ac2",
   "metadata": {},
   "source": [
    "# Инструменты и экосистема Data Science"
   ]
  },
  {
   "cell_type": "markdown",
   "id": "f5e15148-8ea3-4b0d-82e4-d44c8ae3b340",
   "metadata": {},
   "source": [
    "В этом блокноте представлены инструменты и экосистема Data Science."
   ]
  },
  {
   "cell_type": "markdown",
   "id": "1b76180a-05fe-429a-a0b0-cc01327a99fc",
   "metadata": {},
   "source": [
    "__Цели:__\n",
    "* Перечислить популярные языки для Data Science\n",
    "* Перечислить используемые библиотеки для Data Science\n",
    "* Првиести несколько примеров оценки арифметических выражений в Python"
   ]
  },
  {
   "cell_type": "markdown",
   "id": "a14f485d-55b2-4a00-a5b1-0b7d4c326107",
   "metadata": {},
   "source": [
    "Некоторые из популярных языков, которые используют специалисты по Data Science:\n",
    "1. Python\n",
    "2. R\n",
    "3. SQL"
   ]
  },
  {
   "cell_type": "markdown",
   "id": "1121823a-c4dd-40fb-a62a-76f611190008",
   "metadata": {},
   "source": [
    "Некоторые из часто используемых библиотек, которые используют специалисты по Data Science, включают:\n",
    "1. Pandas\n",
    "2. TensorFlow\n",
    "3. Matplotlib"
   ]
  },
  {
   "cell_type": "markdown",
   "id": "36c740c8-2c2c-4be7-89da-381e9dcd6e5c",
   "metadata": {},
   "source": [
    "|Инструменты Data Science|\n",
    "|------------------------|\n",
    "|Jupyter Notebook|\n",
    "|VS Code|\n",
    "|PyCharm|"
   ]
  },
  {
   "cell_type": "markdown",
   "id": "537b2e3a-c563-48be-a7e3-0e4a5b5c6ba1",
   "metadata": {},
   "source": [
    "### Ниже приведены несколько примеров оценки арифметических выражений в Python"
   ]
  },
  {
   "cell_type": "code",
   "execution_count": 10,
   "id": "1f32093c-72f4-4a08-b37c-20d624dfc70e",
   "metadata": {},
   "outputs": [
    {
     "data": {
      "text/plain": [
       "17"
      ]
     },
     "execution_count": 10,
     "metadata": {},
     "output_type": "execute_result"
    }
   ],
   "source": [
    "##Это простое арифметическое выражение для умножения, а затем сложения целых чисел\n",
    "(3*4)+5"
   ]
  },
  {
   "cell_type": "code",
   "execution_count": 12,
   "id": "feeac188-f453-46b6-becf-9b8d92b5bb90",
   "metadata": {},
   "outputs": [
    {
     "data": {
      "text/plain": [
       "3.3333333333333335"
      ]
     },
     "execution_count": 12,
     "metadata": {},
     "output_type": "execute_result"
    }
   ],
   "source": [
    "##Это преобразует 200 минут в часы, деля на 60\n",
    "200/60"
   ]
  },
  {
   "cell_type": "markdown",
   "id": "e64c3e16-610e-42be-b6f5-918d97c85441",
   "metadata": {},
   "source": [
    "## Автор\n",
    "Alex"
   ]
  }
 ],
 "metadata": {
  "kernelspec": {
   "display_name": "Python 3 (ipykernel)",
   "language": "python",
   "name": "python3"
  },
  "language_info": {
   "codemirror_mode": {
    "name": "ipython",
    "version": 3
   },
   "file_extension": ".py",
   "mimetype": "text/x-python",
   "name": "python",
   "nbconvert_exporter": "python",
   "pygments_lexer": "ipython3",
   "version": "3.12.7"
  }
 },
 "nbformat": 4,
 "nbformat_minor": 5
}
